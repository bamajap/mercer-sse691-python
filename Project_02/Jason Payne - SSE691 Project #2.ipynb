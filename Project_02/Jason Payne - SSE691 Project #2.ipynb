{
 "cells": [
  {
   "cell_type": "markdown",
   "metadata": {},
   "source": [
    "![Mercer SSE Image](http://paulemacneil.com/ECELogo.png)\n",
    "# SSE 691 : Engineering Data Visualization\n",
    "# Project #2\n",
    "# October 26, 2015\n",
    "***\n",
    "\n",
    "Topics Covered | Topic Examples\n",
    "------------ | -------------\n",
    "Numpy & Pandas Modules | Powerful Arrays, Data Filtering & Analysis\n",
    "Math Data Analysis | Contour Maps, 3D Graphs\n",
    "\n",
    "***"
   ]
  },
  {
   "cell_type": "markdown",
   "metadata": {},
   "source": [
    "# 1. Numpy\n",
    "\n",
    "The Numpy module is a powerful module used for efficent numerical computing in Python.  It provides powerful and efficient types for *n*-dimensional arrays, vector and matrix arithmetic, linear algebra, etc.  One of the most commonly used objects provided by the Numpy module is the **ndarray** object.  It provides added functionality to Python's standard array object, and it has several similarities to Matlab's matrix data structure (matrix operations, linear algebra, signal processing, etc.).  The examples below illustrate some of these features."
   ]
  },
  {
   "cell_type": "code",
   "execution_count": null,
   "metadata": {
    "collapsed": true
   },
   "outputs": [],
   "source": [
    "# Import Numpy module\n",
    "import numpy as np"
   ]
  },
  {
   "cell_type": "code",
   "execution_count": null,
   "metadata": {
    "collapsed": false
   },
   "outputs": [],
   "source": [
    "# Create a Numpy array using a standard Python list\n",
    "v = np.array([1, 2])\n",
    "v"
   ]
  },
  {
   "cell_type": "markdown",
   "metadata": {},
   "source": [
    "Even though the collection appears to be a standard Python array, it is actually an **ndarray** as can be seen below."
   ]
  },
  {
   "cell_type": "code",
   "execution_count": null,
   "metadata": {
    "collapsed": false
   },
   "outputs": [],
   "source": [
    "type(v)"
   ]
  },
  {
   "cell_type": "markdown",
   "metadata": {},
   "source": [
    "The next few lines of code show just how easy it is to quickly create large array of varying dimensions.  For instance, the **zeroes** function accepts a single integer and returns a one-dimensional array made up exclusively of zeroes."
   ]
  },
  {
   "cell_type": "code",
   "execution_count": null,
   "metadata": {
    "collapsed": false
   },
   "outputs": [],
   "source": [
    "# Create a 1D Numpy array of 10 zeroes\n",
    "v = np.zeros(10)\n",
    "v"
   ]
  },
  {
   "cell_type": "markdown",
   "metadata": {},
   "source": [
    "Passing a 2-integer set to the zeroes function produces two-dimensional array composed of zeroes.  Creating such an array with standard Python types would requires multiple lines of code, whereas here with Numpy's zeroes function, this is accomplished in one line of code!"
   ]
  },
  {
   "cell_type": "code",
   "execution_count": null,
   "metadata": {
    "collapsed": false
   },
   "outputs": [],
   "source": [
    "# Create a 2D Numpy array of 10x10 zeroes\n",
    "v = np.zeros((10, 10))\n",
    "v"
   ]
  },
  {
   "cell_type": "markdown",
   "metadata": {},
   "source": [
    "Once an ndarray has been created, Numpy provides quick mechanisms for altering the values within the array, or matrix."
   ]
  },
  {
   "cell_type": "code",
   "execution_count": null,
   "metadata": {
    "collapsed": false
   },
   "outputs": [],
   "source": [
    "# Now add 5 to each element such that it is now a 10x10 array of 5's\n",
    "v + 5"
   ]
  },
  {
   "cell_type": "code",
   "execution_count": null,
   "metadata": {
    "collapsed": false
   },
   "outputs": [],
   "source": [
    "# Create the 3x3 Identity Matrix\n",
    "v = np.identity(3)\n",
    "v"
   ]
  },
  {
   "cell_type": "code",
   "execution_count": null,
   "metadata": {
    "collapsed": false
   },
   "outputs": [],
   "source": [
    "# Create a 1D Numpy array made up of every value between -5 and +5 while stepping every 0.5 (-5, -4.5, -4,..., 4, 4.5, 5 etc.)\n",
    "v = np.arange(-5, 5.5, 0.5)\n",
    "v"
   ]
  },
  {
   "cell_type": "code",
   "execution_count": null,
   "metadata": {
    "collapsed": false
   },
   "outputs": [],
   "source": [
    "# Create the same array using Numpy's linspace function.\n",
    "v = np.linspace(-5, +5, 21)  # Here, the step value (21) must be manually calculated and provided as the third parameter.\n",
    "v"
   ]
  },
  {
   "cell_type": "markdown",
   "metadata": {},
   "source": [
    "## 1.1 Interactive Example\n",
    "\n",
    "The example below illustrates the efficiencies provided by Numpy's ndarray versus Python's standard array.  A multiplication table is provided based on a user's selection from a drop-down control (*n* x *n* table, where *n* = 5, 15, 25, 50)."
   ]
  },
  {
   "cell_type": "code",
   "execution_count": null,
   "metadata": {
    "collapsed": true
   },
   "outputs": [],
   "source": [
    "# Create a function for generating a multiplication table using Python's comprehension feature.\n",
    "def multiplicationTblPy(n):\n",
    "    return np.array([[(i + 1) * (j + 1) for i in range(n)] for j in range(n)])\n",
    "\n",
    "# Create a function for generating a multiplication table using Numpy functions.\n",
    "def multiplicationTbl(n):\n",
    "    M = np.arange(1, n + 1).reshape((-1, 1))\n",
    "    M = np.tile(M, (1, n))\n",
    "    N = np.arange(1, n + 1).reshape((1, -1))\n",
    "    N = np.tile(N, (n, 1))\n",
    "    return M * N"
   ]
  },
  {
   "cell_type": "code",
   "execution_count": null,
   "metadata": {
    "collapsed": false
   },
   "outputs": [],
   "source": [
    "# Import modules for capturing executiong times, using ordered dictionaries,\n",
    "# and displaying Dropdown widgets\n",
    "from timeit import timeit\n",
    "from collections import OrderedDict\n",
    "from IPython.display import display, clear_output\n",
    "from IPython.html.widgets import Dropdown\n",
    "\n",
    "\n",
    "# Create a Dropdown widget that will be used to control the level\n",
    "# of the multiplication table (5x5, 15x15, etc.)\n",
    "dw = Dropdown(options = OrderedDict([(\"n=5\", 5),\n",
    "                                   (\"n=15\", 15),\n",
    "                                   (\"n=25\", 25),\n",
    "                                   (\"n=50\", 50)]))\n",
    "\n",
    "# Create the callback function that will be used to update the display\n",
    "# when the value of the Dropdown widget changes.\n",
    "def dropdownValueChanged(sender, val):\n",
    "    clear_output()\n",
    "    execNum = 1000\n",
    "    \n",
    "    # Capture the execution times of the different implementations\n",
    "    # used for creating the multiplication table\n",
    "    compTime = timeit(\"multiplicationTblPy({})\".format(val),\n",
    "                      setup=\"from __main__ import multiplicationTblPy\",\n",
    "                      number=execNum)\n",
    "    numpyTime = timeit(\"multiplicationTbl({})\".format(val),\n",
    "                       setup=\"from __main__ import multiplicationTbl\",\n",
    "                       number=execNum)\n",
    "    \n",
    "    # Display the results\n",
    "    print(\"Using list comprehension @ n={0} -> {1:.9f} s\".format(val, compTime))\n",
    "    print(\"Using Numpy @ n={0} -> {1:.9f} s\".format(val, numpyTime))\n",
    "    print()\n",
    "    print(multiplicationTbl(val))\n",
    "\n",
    "# Assign the callback function to the event handler that is triggered\n",
    "# when the value for Dropdown widget is changed.\n",
    "dw.on_trait_change(dropdownValueChanged, 'value')\n",
    "\n",
    "# Give the Dropdown widget an initial value.\n",
    "dw.value = dw.options[\"n=5\"]\n",
    "\n",
    "# Display the Dropdown widget\n",
    "display(dw)\n",
    "\n",
    "# Manually trigger the value-changed event so that the display will update.\n",
    "dropdownValueChanged(None, dw.value)"
   ]
  },
  {
   "cell_type": "markdown",
   "metadata": {},
   "source": [
    "Note how the disparity between execution times differs as *n* increases (based on 1000 timed iterations of execution).  As *n* increases, the execution time for the list comprehension-based function, *multiplicationTblPy*, exponentially increases when compared to the Numpy-based function, *multiplicationTbl*, which only slightly increases even as *n* changes to 50!"
   ]
  },
  {
   "cell_type": "markdown",
   "metadata": {},
   "source": [
    "# 2. Pandas\n",
    "\n",
    "The Pandas module is most useful for the manipulation and analysis of numerical tables and time series.  The module provides several different types of data structures - such as the **DataFrame** - which are used to easily and efficiently analyze tabular data.  The Pandas module is also very useful when loading tabular data that contain different data types (versus just numeric values).  In the example below, tabular data is read in from a web-based data source for state populations and is analyzed, filtered and presented in graphical form."
   ]
  },
  {
   "cell_type": "code",
   "execution_count": null,
   "metadata": {
    "collapsed": true
   },
   "outputs": [],
   "source": [
    "# Import the Pandas module.\n",
    "import pandas as pd"
   ]
  },
  {
   "cell_type": "markdown",
   "metadata": {},
   "source": [
    "The Pandas module makes it very easy to create a data structure from a comma-separated values (csv) file via the **read_csv** function.  Here, the data source is simply a URL to a csv file containing population estimates for each state in 2014."
   ]
  },
  {
   "cell_type": "code",
   "execution_count": null,
   "metadata": {
    "collapsed": false
   },
   "outputs": [],
   "source": [
    "# Use the read_csv function to create a Pandas DataFrame containing the relevant data from the web-based csv file.\n",
    "url = \"http://www.census.gov/popest/data/state/asrh/2014/files/SCPRC-EST2014-18+POP-RES.csv\"\n",
    "data = pd.read_csv(url)\n",
    "\n",
    "# Display the data.\n",
    "data"
   ]
  },
  {
   "cell_type": "markdown",
   "metadata": {},
   "source": [
    "As seen here, the data object is a *DataFrame* object, which is a Pandas type consisting of a two-dimensional labeled data structure with columns of potentially different types (like an Excel spreadsheet)."
   ]
  },
  {
   "cell_type": "code",
   "execution_count": null,
   "metadata": {
    "collapsed": false
   },
   "outputs": [],
   "source": [
    "type(data)"
   ]
  },
  {
   "cell_type": "markdown",
   "metadata": {},
   "source": [
    "Auxillary functions - like **shape** and **keys** - easily reveal the different properties and characteristics of the DataFrame.  Below, it is showing that *data* has 53 rows and 8 columns of data representing the population estimates of 18+ individuals in each state and the nation.  The headers of each column are also displayed."
   ]
  },
  {
   "cell_type": "code",
   "execution_count": null,
   "metadata": {
    "collapsed": false
   },
   "outputs": [],
   "source": [
    "data.shape, data.keys()"
   ]
  },
  {
   "cell_type": "code",
   "execution_count": null,
   "metadata": {
    "collapsed": false
   },
   "outputs": [],
   "source": [
    "# Use the head function to view a subset of the data structure composed of the first few rows of the dataset.\n",
    "data.head()"
   ]
  },
  {
   "cell_type": "code",
   "execution_count": null,
   "metadata": {
    "collapsed": false
   },
   "outputs": [],
   "source": [
    "# Use the tail function to view a subset of the data structure composed of the last few rows of the dataset.\n",
    "data.tail()"
   ]
  },
  {
   "cell_type": "markdown",
   "metadata": {},
   "source": [
    "A nice feature of DataFrame objects is that each column of the DataFrame can be accessed through its name. In IPython, tab completion proposes the different columns of the data."
   ]
  },
  {
   "cell_type": "code",
   "execution_count": null,
   "metadata": {
    "collapsed": false
   },
   "outputs": [],
   "source": [
    "# Retrieve the name of the first state\n",
    "data.NAME[1]  # Index 0 is the national statistic, so use an index of 1 for the name of the first state."
   ]
  },
  {
   "cell_type": "code",
   "execution_count": null,
   "metadata": {
    "collapsed": false
   },
   "outputs": [],
   "source": [
    "# Retrieve and display a view of the data structure composed of only the territory/state and the population numbers.\n",
    "data[['NAME', 'POPESTIMATE2014', 'POPEST18PLUS2014']]"
   ]
  },
  {
   "cell_type": "code",
   "execution_count": null,
   "metadata": {
    "collapsed": false
   },
   "outputs": [],
   "source": [
    "# Since the index is not apparent, use Boolean indexing to retrieve the data row for the state of Georgia.\n",
    "data[data.NAME == \"Georgia\"]"
   ]
  },
  {
   "cell_type": "code",
   "execution_count": null,
   "metadata": {
    "collapsed": false
   },
   "outputs": [],
   "source": [
    "# Use the indexer attribute, ix, to access a single element from the dataset when the column name is unknown.\n",
    "data.ix[1]"
   ]
  },
  {
   "cell_type": "code",
   "execution_count": null,
   "metadata": {
    "collapsed": false
   },
   "outputs": [],
   "source": [
    "# Create a Pandas DataFrame object that omits the national population data.\n",
    "statesOnly = data.ix[1:]\n",
    "statesOnly.head()"
   ]
  },
  {
   "cell_type": "markdown",
   "metadata": {},
   "source": [
    "Note how the row for \"United States\" is not part of the *statesOnly* dataset."
   ]
  },
  {
   "cell_type": "code",
   "execution_count": null,
   "metadata": {
    "collapsed": false
   },
   "outputs": [],
   "source": [
    "# Retrieve a subset of states whose estimated 18+ population is > 10 million.\n",
    "statesOnly = data.ix[1:]\n",
    "statesOnly[statesOnly.POPEST18PLUS2014 >= 10000000]"
   ]
  },
  {
   "cell_type": "markdown",
   "metadata": {},
   "source": [
    "The Pandas module also provides several built-in functions useful for accounting and statistics purposes."
   ]
  },
  {
   "cell_type": "code",
   "execution_count": null,
   "metadata": {
    "collapsed": false
   },
   "outputs": [],
   "source": [
    "# Display the mean, standard deviation, min/max, and 25/50/75 percent quantiles\n",
    "# of the 2014 estimated population amongst the US states/territories.\n",
    "statesOnly.POPESTIMATE2014.describe()"
   ]
  },
  {
   "cell_type": "code",
   "execution_count": null,
   "metadata": {
    "collapsed": false
   },
   "outputs": [],
   "source": [
    "# Display the state with the lowest estimated total population.\n",
    "statesOnly[statesOnly.POPESTIMATE2014 == statesOnly.POPESTIMATE2014.min()]"
   ]
  },
  {
   "cell_type": "code",
   "execution_count": null,
   "metadata": {
    "collapsed": false
   },
   "outputs": [],
   "source": [
    "# Display the state with the largest estimated total population.\n",
    "statesOnly[statesOnly.POPESTIMATE2014 == statesOnly.POPESTIMATE2014.max()]"
   ]
  },
  {
   "cell_type": "markdown",
   "metadata": {},
   "source": [
    "The Pandas module is built on top of the Matplotlib module which makes it easier for visualizing the Pandas data structures through graphs.  In the example below, a horizontal bar graph is shown in a convenient graph providing an even greater visualization of the data structure."
   ]
  },
  {
   "cell_type": "code",
   "execution_count": null,
   "metadata": {
    "collapsed": false
   },
   "outputs": [],
   "source": [
    "# Plot population data using Pandas basic plot function to display a horizontal bar graph.\n",
    "\n",
    "# Instruct this notebook to display the image inline with the text.\n",
    "%matplotlib inline\n",
    "\n",
    "# Create the horizontal bar graph of the population data.\n",
    "my_plot = statesOnly.plot(x='NAME', y='POPESTIMATE2014', kind='barh', figsize=(12,12), legend=None,\n",
    "                          title=\"2014 US State/Territory Population Estimate\")\n",
    "my_plot.set_xlabel(\"Estimated Population (Tens of Millions)\")\n",
    "my_plot.set_ylabel(\"State / Territory\")"
   ]
  },
  {
   "cell_type": "markdown",
   "metadata": {},
   "source": [
    "# 3. Data Visualizations\n",
    "\n",
    "This section demonstrates the useful capabilities provided by the Numpy and Matplotlib modules for calculating and visualizing the characteristics of complex mathematical problems.  The Matplotlib module makes it very easy to quickly display interactive graphs of complex mathematical functions.  Each graph in this section is interactive allowing for panning, zooming, and saving of the graphs displayed here."
   ]
  },
  {
   "cell_type": "code",
   "execution_count": null,
   "metadata": {
    "collapsed": false
   },
   "outputs": [],
   "source": [
    "# Importing all of pylab imports Numpy and Matplotlib.\n",
    "from pylab import *"
   ]
  },
  {
   "cell_type": "code",
   "execution_count": null,
   "metadata": {
    "collapsed": false
   },
   "outputs": [],
   "source": [
    "# Instruct this notebook to display the graphs inline with the text, but with interactive capabilities enabled.\n",
    "%matplotlib notebook\n",
    "\n",
    "# Display an interactive graph of contrasting functions that includes gridlines, labels, etc.\n",
    "figure(figsize=(8, 6))\n",
    "x = arange(-15, 15, 0.1)\n",
    "plot(x, sin(x), '-r', label=r'$f(x) = \\mathrm{sin}(x)$')\n",
    "plot(x, cos(x), '--g', label=r'$f(x) = \\mathrm{cos}(x)$', lw=1.5)\n",
    "xticks([-10, 0, 10])\n",
    "yticks([-1, 0, 1])\n",
    "ylim(-2, 2)\n",
    "legend(loc=2)\n",
    "grid()\n",
    "title('Sine and Cosine functions displayed on the same graph.')"
   ]
  },
  {
   "cell_type": "markdown",
   "metadata": {},
   "source": [
    "## 3.1 Contour Maps\n",
    "This section demonstrates the inherent capabilities of the Matplotlib module in support of contour maps, both 2-D and 3-D."
   ]
  },
  {
   "cell_type": "markdown",
   "metadata": {},
   "source": [
    "### 3.1.1   2-D Contour Map of $f(x, y) = x^2 + y^2$"
   ]
  },
  {
   "cell_type": "code",
   "execution_count": null,
   "metadata": {
    "collapsed": false
   },
   "outputs": [],
   "source": [
    "# Plot contour map of f(x, y)= x**2 + y**2\n",
    "figure()\n",
    "\n",
    "# Create vectors for the x/y-axis, respectively, to be used as the independent variables of the contour map.\n",
    "x_vector = arange(-5, 5, 0.15)\n",
    "y_vector = arange(-5, 5, 0.15)\n",
    "\n",
    "# Create a matrix/grid from the independent variables for the contour function, z.\n",
    "# Using a grid allows the contour function to be written as a function of x and y in Python.\n",
    "x, y = meshgrid(x_vector, y_vector)\n",
    "\n",
    "# z = f(x, y) = x**2 + y**2\n",
    "z = (x**2 + y**2)\n",
    "\n",
    "# Create & display the graph\n",
    "contour(x, y, z, 20)\n",
    "title('Contour map of {0}'.format(r'$f(x,y) = x^2 + y^2$'))"
   ]
  },
  {
   "cell_type": "markdown",
   "metadata": {},
   "source": [
    "### 3.1.2  2-D Contour Map of $f(x, y) = x^2 - y^2$\n",
    "\n",
    "Due to the interactive capabilities of the IPython notebook, the contour function, *z*, illustrated in the previous section can be quickly changed to reveal an entirely different contour map.  And because the contour function is a function of the independent variables of the coordinate grid created from Numpy's **meshgrid** function and is passed as a parameter to the Matplotlib's **contour** function, *z* can be quickly written as if it were a standard mathematical equation in Python."
   ]
  },
  {
   "cell_type": "code",
   "execution_count": null,
   "metadata": {
    "collapsed": false
   },
   "outputs": [],
   "source": [
    "# Plot contour map of f(x, y) = x**2 - y**2\n",
    "figure()\n",
    "\n",
    "# z = f(x, y) = x**2 - y**2\n",
    "z = x**2 - y**2\n",
    "\n",
    "# Create & display the graph\n",
    "contour(x, y, z, 20)\n",
    "title('Contour map of {0}'.format(r'$f(x,y) = x^2 - y^2$'))"
   ]
  },
  {
   "cell_type": "markdown",
   "metadata": {},
   "source": [
    "###3.1.3  3-D Contour Map of $f(x, y) = x^2 + y^2$"
   ]
  },
  {
   "cell_type": "code",
   "execution_count": null,
   "metadata": {
    "collapsed": true
   },
   "outputs": [],
   "source": [
    "# Import Matplotlib's 3-D toolkit, mplot3d, for 3-D graphs.\n",
    "from mpl_toolkits.mplot3d import Axes3D"
   ]
  },
  {
   "cell_type": "markdown",
   "metadata": {},
   "source": [
    "**NOTE:** The interactive controls for the 3-D graphs only allow for rotating and/or saving the view.  Moving and zooming features are not currently operational with Matplotlib's 3-D graphs."
   ]
  },
  {
   "cell_type": "code",
   "execution_count": null,
   "metadata": {
    "collapsed": false
   },
   "outputs": [],
   "source": [
    "# Similar to before, create the x/y-axis for the contour grid, except using more resolution for the 3-D graph.\n",
    "x_vector = linspace(-1, 1, 100)\n",
    "y_vector = linspace(-1, 1, 100)\n",
    "x, y = meshgrid(x_vector, y_vector)\n",
    "fig = figure()\n",
    "z = x**2 + y**2\n",
    "ax = fig.gca(projection='3d')\n",
    "ax.plot_surface(x, y, z)\n",
    "title('3-D contour map of {0}'.format(r'$f(x,y) = x^2 + y^2$'))"
   ]
  },
  {
   "cell_type": "markdown",
   "metadata": {},
   "source": [
    "###3.1.4  3-D Contour Map of $f(x, y) = x^2 - y^2$"
   ]
  },
  {
   "cell_type": "code",
   "execution_count": null,
   "metadata": {
    "collapsed": false
   },
   "outputs": [],
   "source": [
    "x_vector = linspace(-1, 1, 150)\n",
    "y_vector = linspace(-1, 1, 150)\n",
    "x, y = meshgrid(x_vector, y_vector)\n",
    "fig = figure()\n",
    "z = x**2 - y**2\n",
    "ax = fig.gca(projection='3d')\n",
    "ax.plot_surface(x, y, z)\n",
    "title('3-D contour map of {0}'.format(r'$f(x,y) = x^2 - y^2$'))"
   ]
  },
  {
   "cell_type": "markdown",
   "metadata": {},
   "source": [
    "##3.2 Fourier Expansion of a Square Wave\n",
    "\n",
    "The Fourier series of a square wave is:\n",
    "\n",
    "$f(x) = \\frac{4}{\\pi}\\sum_{n=1,3,5,...}^\\infty\\frac{1}{n}\\sin(\\frac{n \\pi x}{L})$, where $x \\exists [0, 2L]$\n",
    "\n",
    "See also [\"Fourier Series\" from *MathWorld*](http://mathworld.wolfram.com/FourierSeries.html)."
   ]
  },
  {
   "cell_type": "code",
   "execution_count": null,
   "metadata": {
    "collapsed": false
   },
   "outputs": [],
   "source": [
    "# Graph the Fourier Expansion of a Square Wave\n",
    "figure()\n",
    "\n",
    "# Ensure subsequent graphs do not overwrite the existing graphs\n",
    "hold(True)\n",
    "\n",
    "# Number of points to display the wave\n",
    "N = 256\n",
    "L = 1\n",
    "x = linspace(0, 2*L, N)\n",
    "y = zeros(N)\n",
    "\n",
    "for n in range(1, 8, 2):\n",
    "    # the sine waves, added\n",
    "    y += 4/(pi*n)*sin((pi*n*x)/L)\n",
    "    \n",
    "    # plot the graph\n",
    "    plot(x, y, label='n={0}'.format(n))\n",
    "    \n",
    "\n",
    "# annotate the graph\n",
    "axis([0, 2*L, -1.5, 1.5])\n",
    "grid()\n",
    "legend()\n",
    "xlabel('Seconds')\n",
    "ylabel('Value')\n",
    "title('Fourier expansion of a Square Wave')"
   ]
  },
  {
   "cell_type": "markdown",
   "metadata": {},
   "source": [
    "#See project folder for time log."
   ]
  }
 ],
 "metadata": {
  "kernelspec": {
   "display_name": "Python 3",
   "language": "python",
   "name": "python3"
  },
  "language_info": {
   "codemirror_mode": {
    "name": "ipython",
    "version": 3
   },
   "file_extension": ".py",
   "mimetype": "text/x-python",
   "name": "python",
   "nbconvert_exporter": "python",
   "pygments_lexer": "ipython3",
   "version": "3.4.3"
  }
 },
 "nbformat": 4,
 "nbformat_minor": 0
}
